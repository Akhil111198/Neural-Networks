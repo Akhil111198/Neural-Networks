{
 "cells": [
  {
   "cell_type": "code",
   "execution_count": null,
   "id": "6d197fa6-e5d9-4f1f-8549-fa25ff579305",
   "metadata": {},
   "outputs": [],
   "source": [
    "x = list(input(\"Enter the string: \"))\n",
    "\n",
    "if len(x) >= 3:\n",
    "    del x[0]  \n",
    "    del x[-1]  \n",
    "    print(\"Output String: \"+ \"\".join(x[::-1]))\n",
    "else:\n",
    "    print(\"Output String: \" + \"\".join(x)) "
   ]
  },
  {
   "cell_type": "code",
   "execution_count": null,
   "id": "ae2e9891-d226-4203-b223-60dc38899f48",
   "metadata": {},
   "outputs": [],
   "source": [
    "a=int(input('Enter 1st Number:'))\n",
    "b=int(input('Enter 2nd Number:'))\n",
    "print(a+b,a-b,a*b,a//b)"
   ]
  },
  {
   "cell_type": "code",
   "execution_count": null,
   "id": "9c5b9caa-983a-4d42-9538-8237b1059133",
   "metadata": {},
   "outputs": [],
   "source": [
    "x=input('Enter input string: ')\n",
    "x=x.replace('python','pythons')\n",
    "print(x)"
   ]
  },
  {
   "cell_type": "code",
   "execution_count": null,
   "id": "2ab0b698-9330-4588-b42f-25c6bd66339c",
   "metadata": {},
   "outputs": [],
   "source": [
    "score=int(input('Enter score:'))\n",
    "if(score>100):\n",
    "    print('Invalid input')\n",
    "elif(score >=90):\n",
    "    print('A')\n",
    "elif(score>=80):\n",
    "    print('B')\n",
    "elif(score>=70):\n",
    "    print('C')\n",
    "elif(score>=60):\n",
    "    print('D')\n",
    "else:\n",
    "    print('F')"
   ]
  }
 ],
 "metadata": {
  "kernelspec": {
   "display_name": "Python 3 (ipykernel)",
   "language": "python",
   "name": "python3"
  },
  "language_info": {
   "codemirror_mode": {
    "name": "ipython",
    "version": 3
   },
   "file_extension": ".py",
   "mimetype": "text/x-python",
   "name": "python",
   "nbconvert_exporter": "python",
   "pygments_lexer": "ipython3",
   "version": "3.12.1"
  }
 },
 "nbformat": 4,
 "nbformat_minor": 5
}
