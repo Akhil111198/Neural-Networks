{
 "cells": [
  {
   "cell_type": "code",
   "execution_count": 27,
   "id": "97b88cb4-8767-4996-beb5-c318decc95e3",
   "metadata": {},
   "outputs": [],
   "source": [
    "def full_name(first_name, last_name):\n",
    "    full_name = first_name + \" \" + last_name\n",
    "    return full_name"
   ]
  },
  {
   "cell_type": "code",
   "execution_count": 28,
   "id": "cd5770f6-f651-4186-9f44-442e5e3e427b",
   "metadata": {},
   "outputs": [
    {
     "name": "stdin",
     "output_type": "stream",
     "text": [
      "Enter your first name:\n",
      " a\n",
      "Enter your last name:\n",
      " c\n"
     ]
    },
    {
     "name": "stdout",
     "output_type": "stream",
     "text": [
      "a c\n"
     ]
    }
   ],
   "source": [
    "if __name__=='__main__':\n",
    "    first_name=input(\"Enter your first name:\\n\")\n",
    "    last_name=input(\"Enter your last name:\\n\")\n",
    "    full_name=full_name(first_name,last_name)\n",
    "    print(full_name)"
   ]
  },
  {
   "cell_type": "code",
   "execution_count": 24,
   "id": "4f4efd10-4911-4015-b10c-eb243d21a303",
   "metadata": {},
   "outputs": [
    {
     "name": "stdout",
     "output_type": "stream",
     "text": [
      "Go vnn\n"
     ]
    }
   ],
   "source": [
    "def string_alternative(name):\n",
    "    output=''\n",
    "    for i in range(0,len(name)):\n",
    "        if(i%2==0):\n",
    "            output=output+name[i]\n",
    "    return output\n",
    "if __name__=='__main__':\n",
    "    print(string_alternative(\"Good evening\"))"
   ]
  },
  {
   "cell_type": "code",
   "execution_count": 25,
   "id": "80b9d3c5-04fc-4119-b0e3-dbefb18f8457",
   "metadata": {},
   "outputs": [
    {
     "name": "stdout",
     "output_type": "stream",
     "text": [
      "Python:1\n",
      "Course:2\n",
      "Deep:1\n",
      "Learning:1\n",
      "\n"
     ]
    }
   ],
   "source": [
    "with open('input_file.txt','r') as ipf:\n",
    "    line=ipf.read()\n",
    "    word=line.split()\n",
    "    check=[]\n",
    "    with open('output_file.txt','w') as opf:\n",
    "        for i in word:\n",
    "            if i not in check:\n",
    "                check.append(i)\n",
    "                opf.write(i+':'+str(word.count(i))+'\\n')      \n",
    "opf=open('output_file.txt','r')\n",
    "print(opf.read())"
   ]
  },
  {
   "cell_type": "code",
   "execution_count": 26,
   "id": "41bfaf64-2cb0-46af-a130-60b10ba036d7",
   "metadata": {},
   "outputs": [
    {
     "name": "stdin",
     "output_type": "stream",
     "text": [
      "Enter the number of customers:  3\n",
      "Enter height (in inches) for customer 1:  1\n",
      "Enter height (in inches) for customer 2:  1\n",
      "Enter height (in inches) for customer 3:  1\n"
     ]
    },
    {
     "name": "stdout",
     "output_type": "stream",
     "text": [
      "\n",
      "Heights in Inches: [1.0, 1.0, 1.0]\n",
      "Heights in Centimeters: [2.54, 2.54, 2.54]\n"
     ]
    }
   ],
   "source": [
    "def convert_heights_nested_loop():\n",
    "    num_customers = int(input(\"Enter the number of customers: \"))\n",
    "    \n",
    "    #Nested Interactive Loop\n",
    "    heights_inches = [float(input(f\"Enter height (in inches) for customer {i + 1}: \")) for i in range(num_customers)]\n",
    "    heights_centimeters=[]\n",
    "    #List Comprehension\n",
    "    for height in heights_inches:\n",
    "        heights_centimeters.append(height*2.54)\n",
    "    return heights_inches, heights_centimeters\n",
    "\n",
    "if __name__ == \"__main__\":\n",
    "    nested_loop_result = convert_heights_nested_loop()\n",
    "    print(\"\\nHeights in Inches:\", nested_loop_result[0])\n",
    "    print(\"Heights in Centimeters:\", nested_loop_result[1])"
   ]
  }
 ],
 "metadata": {
  "kernelspec": {
   "display_name": "Python 3 (ipykernel)",
   "language": "python",
   "name": "python3"
  },
  "language_info": {
   "codemirror_mode": {
    "name": "ipython",
    "version": 3
   },
   "file_extension": ".py",
   "mimetype": "text/x-python",
   "name": "python",
   "nbconvert_exporter": "python",
   "pygments_lexer": "ipython3",
   "version": "3.12.1"
  }
 },
 "nbformat": 4,
 "nbformat_minor": 5
}
