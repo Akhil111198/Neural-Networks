{
 "cells": [
  {
   "cell_type": "code",
   "execution_count": 7,
   "id": "d6eef20b-a676-403e-96ba-e6dfad63c817",
   "metadata": {},
   "outputs": [
    {
     "name": "stdout",
     "output_type": "stream",
     "text": [
      "avg: 3500.0\n",
      "Name : Kaushik , Family: Reddy , Salary: 9000 , Department: IT\n"
     ]
    }
   ],
   "source": [
    "class Employee:#Employee class\n",
    "    empCount=0 ##employeeCount is used to keep track of number of employee objects\n",
    "    salSum=0 #salSum is used to take the average of the salaries of the Employee object \n",
    "    def __init__(self,name,family,salary,department): #constructor for Employee as per the requirements\n",
    "        self.name = name\n",
    "        self.family = family\n",
    "        self.salary = salary\n",
    "        self.department = department\n",
    "        Employee.empCount += 1\n",
    "        Employee.salSum+=self.salary\n",
    "    def avg(self):\n",
    "        return Employee.salSum/Employee.empCount\n",
    "    def displayEmployee(self):#another function for employee class\n",
    "        print(\"Name :\", self.name, \", Family:\", self.family , \", Salary:\", self.salary, \", Department:\",self.department)\n",
    "\n",
    "emp1 = Employee(\"Akhilesh\",\"CM\",2000,\"CyberSecurity\")#Employee objects creation with intialization\n",
    "emp2 = Employee(\"Pooja\",\"Cheekati\",5000,\"Hardware\")\n",
    "print(\"avg:\",emp2.avg())#calling average function\n",
    "\n",
    "class FulltimeEmployee(Employee):\n",
    "    def __init__(self, name, family, salary, department):\n",
    "        super().__init__(name, family, salary, department)\n",
    "\n",
    "akhil=FulltimeEmployee(\"Kaushik\",\"Reddy\",9000,\"IT\")#FultimeEmployee object\n",
    "akhil.displayEmployee()\n"
   ]
  },
  {
   "cell_type": "code",
   "execution_count": 2,
   "id": "56758115-1705-441b-bbe9-b0e7e90d243d",
   "metadata": {},
   "outputs": [
    {
     "name": "stdout",
     "output_type": "stream",
     "text": [
      "[ 1.  2.  3.  4.  5.  6.  7.  8.  9. 10. 11. 12. 13. 14. 15. 16. 17. 18.\n",
      " 19. 20.]\n",
      "[[ 1.  2.  3.  4.  5.]\n",
      " [ 6.  7.  8.  9. 10.]\n",
      " [11. 12. 13. 14. 15.]\n",
      " [16. 17. 18. 19. 20.]]\n"
     ]
    },
    {
     "data": {
      "text/plain": [
       "array([[ 1.,  2.,  3.,  4.,  0.],\n",
       "       [ 6.,  7.,  8.,  9.,  0.],\n",
       "       [11., 12., 13., 14.,  0.],\n",
       "       [16., 17., 18., 19.,  0.]])"
      ]
     },
     "execution_count": 2,
     "metadata": {},
     "output_type": "execute_result"
    }
   ],
   "source": [
    "import numpy as np #importing numpy library\n",
    "vec=np.arange(1,21,dtype=float)\n",
    "print(vec)\n",
    "vec=vec.reshape(4,5)\n",
    "print(vec)\n",
    "vec=np.where(np.isin(vec,vec.max(axis=1)),0,vec)\n",
    "vec"
   ]
  }
 ],
 "metadata": {
  "kernelspec": {
   "display_name": "Python 3 (ipykernel)",
   "language": "python",
   "name": "python3"
  },
  "language_info": {
   "codemirror_mode": {
    "name": "ipython",
    "version": 3
   },
   "file_extension": ".py",
   "mimetype": "text/x-python",
   "name": "python",
   "nbconvert_exporter": "python",
   "pygments_lexer": "ipython3",
   "version": "3.12.1"
  }
 },
 "nbformat": 4,
 "nbformat_minor": 5
}
